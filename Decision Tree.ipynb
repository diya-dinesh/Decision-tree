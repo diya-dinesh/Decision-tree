{
 "cells": [
  {
   "cell_type": "code",
   "execution_count": 1,
   "id": "8f64b82d",
   "metadata": {},
   "outputs": [],
   "source": [
    "import pandas as pd\n",
    "import numpy as np\n",
    "import matplotlib.pyplot as plt"
   ]
  },
  {
   "cell_type": "code",
   "execution_count": 2,
   "id": "09004a40",
   "metadata": {},
   "outputs": [],
   "source": [
    "data = pd.read_csv(\"Bank_Stock_Price_10Y.csv\")"
   ]
  },
  {
   "cell_type": "code",
   "execution_count": 3,
   "id": "fa9067ce",
   "metadata": {},
   "outputs": [
    {
     "data": {
      "text/html": [
       "<div>\n",
       "<style scoped>\n",
       "    .dataframe tbody tr th:only-of-type {\n",
       "        vertical-align: middle;\n",
       "    }\n",
       "\n",
       "    .dataframe tbody tr th {\n",
       "        vertical-align: top;\n",
       "    }\n",
       "\n",
       "    .dataframe thead th {\n",
       "        text-align: right;\n",
       "    }\n",
       "</style>\n",
       "<table border=\"1\" class=\"dataframe\">\n",
       "  <thead>\n",
       "    <tr style=\"text-align: right;\">\n",
       "      <th></th>\n",
       "      <th>Date</th>\n",
       "      <th>Open</th>\n",
       "      <th>High</th>\n",
       "      <th>Low</th>\n",
       "      <th>Close</th>\n",
       "      <th>Adj Close</th>\n",
       "      <th>Volume</th>\n",
       "    </tr>\n",
       "  </thead>\n",
       "  <tbody>\n",
       "    <tr>\n",
       "      <th>0</th>\n",
       "      <td>2014-02-03</td>\n",
       "      <td>1980.0</td>\n",
       "      <td>2000.0</td>\n",
       "      <td>1965.0</td>\n",
       "      <td>1965.0</td>\n",
       "      <td>1691.382568</td>\n",
       "      <td>55407000</td>\n",
       "    </tr>\n",
       "    <tr>\n",
       "      <th>1</th>\n",
       "      <td>2014-02-04</td>\n",
       "      <td>1970.0</td>\n",
       "      <td>1980.0</td>\n",
       "      <td>1940.0</td>\n",
       "      <td>1970.0</td>\n",
       "      <td>1695.686035</td>\n",
       "      <td>83683500</td>\n",
       "    </tr>\n",
       "    <tr>\n",
       "      <th>2</th>\n",
       "      <td>2014-02-05</td>\n",
       "      <td>1980.0</td>\n",
       "      <td>1990.0</td>\n",
       "      <td>1965.0</td>\n",
       "      <td>1990.0</td>\n",
       "      <td>1712.901367</td>\n",
       "      <td>42715000</td>\n",
       "    </tr>\n",
       "    <tr>\n",
       "      <th>3</th>\n",
       "      <td>2014-02-06</td>\n",
       "      <td>1975.0</td>\n",
       "      <td>2030.0</td>\n",
       "      <td>1970.0</td>\n",
       "      <td>2030.0</td>\n",
       "      <td>1747.331299</td>\n",
       "      <td>63581000</td>\n",
       "    </tr>\n",
       "    <tr>\n",
       "      <th>4</th>\n",
       "      <td>2014-02-07</td>\n",
       "      <td>2050.0</td>\n",
       "      <td>2060.0</td>\n",
       "      <td>2035.0</td>\n",
       "      <td>2050.0</td>\n",
       "      <td>1764.546753</td>\n",
       "      <td>104825500</td>\n",
       "    </tr>\n",
       "  </tbody>\n",
       "</table>\n",
       "</div>"
      ],
      "text/plain": [
       "         Date    Open    High     Low   Close    Adj Close     Volume\n",
       "0  2014-02-03  1980.0  2000.0  1965.0  1965.0  1691.382568   55407000\n",
       "1  2014-02-04  1970.0  1980.0  1940.0  1970.0  1695.686035   83683500\n",
       "2  2014-02-05  1980.0  1990.0  1965.0  1990.0  1712.901367   42715000\n",
       "3  2014-02-06  1975.0  2030.0  1970.0  2030.0  1747.331299   63581000\n",
       "4  2014-02-07  2050.0  2060.0  2035.0  2050.0  1764.546753  104825500"
      ]
     },
     "execution_count": 3,
     "metadata": {},
     "output_type": "execute_result"
    }
   ],
   "source": [
    "data.head()"
   ]
  },
  {
   "cell_type": "code",
   "execution_count": 4,
   "id": "95225d08",
   "metadata": {},
   "outputs": [],
   "source": [
    "X = data.iloc[:, [1,2,4,5]].values\n",
    "y = data.iloc[:,3:4].values"
   ]
  },
  {
   "cell_type": "code",
   "execution_count": 5,
   "id": "beb41ab8",
   "metadata": {},
   "outputs": [
    {
     "data": {
      "text/plain": [
       "array([[1980.      , 2000.      , 1965.      , 1691.382568],\n",
       "       [1970.      , 1980.      , 1970.      , 1695.686035],\n",
       "       [1980.      , 1990.      , 1990.      , 1712.901367],\n",
       "       ...,\n",
       "       [9400.      , 9450.      , 9350.      , 9350.      ],\n",
       "       [9400.      , 9550.      , 9550.      , 9550.      ],\n",
       "       [9500.      , 9650.      , 9650.      , 9650.      ]])"
      ]
     },
     "execution_count": 5,
     "metadata": {},
     "output_type": "execute_result"
    }
   ],
   "source": [
    "X"
   ]
  },
  {
   "cell_type": "code",
   "execution_count": 6,
   "id": "cf27d6e9",
   "metadata": {},
   "outputs": [
    {
     "data": {
      "text/html": [
       "<div>\n",
       "<style scoped>\n",
       "    .dataframe tbody tr th:only-of-type {\n",
       "        vertical-align: middle;\n",
       "    }\n",
       "\n",
       "    .dataframe tbody tr th {\n",
       "        vertical-align: top;\n",
       "    }\n",
       "\n",
       "    .dataframe thead th {\n",
       "        text-align: right;\n",
       "    }\n",
       "</style>\n",
       "<table border=\"1\" class=\"dataframe\">\n",
       "  <thead>\n",
       "    <tr style=\"text-align: right;\">\n",
       "      <th></th>\n",
       "      <th>Open</th>\n",
       "      <th>High</th>\n",
       "      <th>Low</th>\n",
       "      <th>Close</th>\n",
       "      <th>Adj Close</th>\n",
       "      <th>Volume</th>\n",
       "    </tr>\n",
       "  </thead>\n",
       "  <tbody>\n",
       "    <tr>\n",
       "      <th>count</th>\n",
       "      <td>2483.000000</td>\n",
       "      <td>2483.000000</td>\n",
       "      <td>2483.000000</td>\n",
       "      <td>2483.000000</td>\n",
       "      <td>2483.000000</td>\n",
       "      <td>2.483000e+03</td>\n",
       "    </tr>\n",
       "    <tr>\n",
       "      <th>mean</th>\n",
       "      <td>5219.973822</td>\n",
       "      <td>5265.847765</td>\n",
       "      <td>5173.628675</td>\n",
       "      <td>5219.887233</td>\n",
       "      <td>4886.148684</td>\n",
       "      <td>7.997496e+07</td>\n",
       "    </tr>\n",
       "    <tr>\n",
       "      <th>std</th>\n",
       "      <td>2223.156537</td>\n",
       "      <td>2240.113146</td>\n",
       "      <td>2206.459905</td>\n",
       "      <td>2223.903144</td>\n",
       "      <td>2276.934419</td>\n",
       "      <td>5.378122e+07</td>\n",
       "    </tr>\n",
       "    <tr>\n",
       "      <th>min</th>\n",
       "      <td>1970.000000</td>\n",
       "      <td>1980.000000</td>\n",
       "      <td>1940.000000</td>\n",
       "      <td>1965.000000</td>\n",
       "      <td>1691.382568</td>\n",
       "      <td>0.000000e+00</td>\n",
       "    </tr>\n",
       "    <tr>\n",
       "      <th>25%</th>\n",
       "      <td>2955.000000</td>\n",
       "      <td>2985.000000</td>\n",
       "      <td>2930.000000</td>\n",
       "      <td>2950.000000</td>\n",
       "      <td>2612.564454</td>\n",
       "      <td>5.153575e+07</td>\n",
       "    </tr>\n",
       "    <tr>\n",
       "      <th>50%</th>\n",
       "      <td>5170.000000</td>\n",
       "      <td>5235.000000</td>\n",
       "      <td>5120.000000</td>\n",
       "      <td>5180.000000</td>\n",
       "      <td>4736.543945</td>\n",
       "      <td>7.009800e+07</td>\n",
       "    </tr>\n",
       "    <tr>\n",
       "      <th>75%</th>\n",
       "      <td>6822.500000</td>\n",
       "      <td>6890.000000</td>\n",
       "      <td>6740.000000</td>\n",
       "      <td>6800.000000</td>\n",
       "      <td>6349.964111</td>\n",
       "      <td>9.651755e+07</td>\n",
       "    </tr>\n",
       "    <tr>\n",
       "      <th>max</th>\n",
       "      <td>9775.000000</td>\n",
       "      <td>9775.000000</td>\n",
       "      <td>9675.000000</td>\n",
       "      <td>9750.000000</td>\n",
       "      <td>9750.000000</td>\n",
       "      <td>1.062862e+09</td>\n",
       "    </tr>\n",
       "  </tbody>\n",
       "</table>\n",
       "</div>"
      ],
      "text/plain": [
       "              Open         High          Low        Close    Adj Close  \\\n",
       "count  2483.000000  2483.000000  2483.000000  2483.000000  2483.000000   \n",
       "mean   5219.973822  5265.847765  5173.628675  5219.887233  4886.148684   \n",
       "std    2223.156537  2240.113146  2206.459905  2223.903144  2276.934419   \n",
       "min    1970.000000  1980.000000  1940.000000  1965.000000  1691.382568   \n",
       "25%    2955.000000  2985.000000  2930.000000  2950.000000  2612.564454   \n",
       "50%    5170.000000  5235.000000  5120.000000  5180.000000  4736.543945   \n",
       "75%    6822.500000  6890.000000  6740.000000  6800.000000  6349.964111   \n",
       "max    9775.000000  9775.000000  9675.000000  9750.000000  9750.000000   \n",
       "\n",
       "             Volume  \n",
       "count  2.483000e+03  \n",
       "mean   7.997496e+07  \n",
       "std    5.378122e+07  \n",
       "min    0.000000e+00  \n",
       "25%    5.153575e+07  \n",
       "50%    7.009800e+07  \n",
       "75%    9.651755e+07  \n",
       "max    1.062862e+09  "
      ]
     },
     "execution_count": 6,
     "metadata": {},
     "output_type": "execute_result"
    }
   ],
   "source": [
    "data.describe()"
   ]
  },
  {
   "cell_type": "code",
   "execution_count": 7,
   "id": "a9669072",
   "metadata": {},
   "outputs": [
    {
     "name": "stdout",
     "output_type": "stream",
     "text": [
      "<class 'pandas.core.frame.DataFrame'>\n",
      "RangeIndex: 2483 entries, 0 to 2482\n",
      "Data columns (total 7 columns):\n",
      " #   Column     Non-Null Count  Dtype  \n",
      "---  ------     --------------  -----  \n",
      " 0   Date       2483 non-null   object \n",
      " 1   Open       2483 non-null   float64\n",
      " 2   High       2483 non-null   float64\n",
      " 3   Low        2483 non-null   float64\n",
      " 4   Close      2483 non-null   float64\n",
      " 5   Adj Close  2483 non-null   float64\n",
      " 6   Volume     2483 non-null   int64  \n",
      "dtypes: float64(5), int64(1), object(1)\n",
      "memory usage: 135.9+ KB\n"
     ]
    }
   ],
   "source": [
    "data.info()"
   ]
  },
  {
   "cell_type": "code",
   "execution_count": 8,
   "id": "7240661c",
   "metadata": {},
   "outputs": [
    {
     "data": {
      "text/plain": [
       "Date         0\n",
       "Open         0\n",
       "High         0\n",
       "Low          0\n",
       "Close        0\n",
       "Adj Close    0\n",
       "Volume       0\n",
       "dtype: int64"
      ]
     },
     "execution_count": 8,
     "metadata": {},
     "output_type": "execute_result"
    }
   ],
   "source": [
    "data.isna().sum()"
   ]
  },
  {
   "cell_type": "code",
   "execution_count": 9,
   "id": "1ccbc25e",
   "metadata": {},
   "outputs": [],
   "source": [
    "from sklearn.model_selection import train_test_split\n",
    "X_train, X_test, y_train, y_test = train_test_split(X, y, test_size=0.2, random_state=42)"
   ]
  },
  {
   "cell_type": "code",
   "execution_count": 10,
   "id": "643898dd",
   "metadata": {},
   "outputs": [
    {
     "data": {
      "text/plain": [
       "DecisionTreeClassifier()"
      ]
     },
     "execution_count": 10,
     "metadata": {},
     "output_type": "execute_result"
    }
   ],
   "source": [
    "from sklearn.tree import DecisionTreeClassifier, DecisionTreeRegressor\n",
    "clf= DecisionTreeClassifier()\n",
    "clf.fit(X_train, y_train)"
   ]
  },
  {
   "cell_type": "code",
   "execution_count": 11,
   "id": "f418864a",
   "metadata": {},
   "outputs": [],
   "source": [
    "y_pred = clf.predict(X_test)"
   ]
  },
  {
   "cell_type": "code",
   "execution_count": 12,
   "id": "740acd0f",
   "metadata": {},
   "outputs": [
    {
     "name": "stdout",
     "output_type": "stream",
     "text": [
      "Classification Accuracy: 0.13\n"
     ]
    }
   ],
   "source": [
    "# Calculate accuracy for classification\n",
    "from sklearn.metrics import accuracy_score, mean_squared_error\n",
    "accuracy = accuracy_score(y_test, y_pred)\n",
    "print(f\"Classification Accuracy: {accuracy:.2f}\")"
   ]
  },
  {
   "cell_type": "code",
   "execution_count": 13,
   "id": "73a86d7e",
   "metadata": {},
   "outputs": [
    {
     "data": {
      "text/plain": [
       "DecisionTreeRegressor()"
      ]
     },
     "execution_count": 13,
     "metadata": {},
     "output_type": "execute_result"
    }
   ],
   "source": [
    "clf_reg = DecisionTreeRegressor()\n",
    "clf_reg.fit(X_train, y_train)"
   ]
  },
  {
   "cell_type": "code",
   "execution_count": 14,
   "id": "6a160bd9",
   "metadata": {},
   "outputs": [],
   "source": [
    "y_predR = clf_reg.predict(X_test)"
   ]
  },
  {
   "cell_type": "code",
   "execution_count": 15,
   "id": "f158da91",
   "metadata": {},
   "outputs": [
    {
     "name": "stdout",
     "output_type": "stream",
     "text": [
      "Regression Mean Squared Error: 1824.63\n"
     ]
    }
   ],
   "source": [
    "mse_reg = mean_squared_error(y_test, y_predR)\n",
    "print(f\"Regression Mean Squared Error: {mse_reg:.2f}\")"
   ]
  },
  {
   "cell_type": "code",
   "execution_count": null,
   "id": "ccc0e84e",
   "metadata": {},
   "outputs": [],
   "source": [
    "#Plot the decision tree\n",
    "#from sklearn.tree import plot_tree\n",
    "#plt.figure(figsize=(12, 8))\n",
    "#plot_tree(clf, feature_names=data.columns[1:5], filled=True, rounded=True)\n",
    "#plt.show()"
   ]
  },
  {
   "cell_type": "markdown",
   "id": "d586064a",
   "metadata": {},
   "source": [
    "# ============================================================="
   ]
  }
 ],
 "metadata": {
  "kernelspec": {
   "display_name": "Python 3 (ipykernel)",
   "language": "python",
   "name": "python3"
  },
  "language_info": {
   "codemirror_mode": {
    "name": "ipython",
    "version": 3
   },
   "file_extension": ".py",
   "mimetype": "text/x-python",
   "name": "python",
   "nbconvert_exporter": "python",
   "pygments_lexer": "ipython3",
   "version": "3.9.7"
  }
 },
 "nbformat": 4,
 "nbformat_minor": 5
}
